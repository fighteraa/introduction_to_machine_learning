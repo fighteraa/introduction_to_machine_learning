{
 "cells": [
  {
   "cell_type": "code",
   "execution_count": 2,
   "metadata": {},
   "outputs": [
    {
     "data": {
      "text/html": [
       "<div>\n",
       "<style scoped>\n",
       "    .dataframe tbody tr th:only-of-type {\n",
       "        vertical-align: middle;\n",
       "    }\n",
       "\n",
       "    .dataframe tbody tr th {\n",
       "        vertical-align: top;\n",
       "    }\n",
       "\n",
       "    .dataframe thead th {\n",
       "        text-align: right;\n",
       "    }\n",
       "</style>\n",
       "<table border=\"1\" class=\"dataframe\">\n",
       "  <thead>\n",
       "    <tr style=\"text-align: right;\">\n",
       "      <th></th>\n",
       "      <th>start_time</th>\n",
       "      <th>lobby_type</th>\n",
       "      <th>r1_hero</th>\n",
       "      <th>r1_level</th>\n",
       "      <th>r1_xp</th>\n",
       "      <th>r1_gold</th>\n",
       "      <th>r1_lh</th>\n",
       "      <th>r1_kills</th>\n",
       "      <th>r1_deaths</th>\n",
       "      <th>r1_items</th>\n",
       "      <th>...</th>\n",
       "      <th>dire_boots_count</th>\n",
       "      <th>dire_ward_observer_count</th>\n",
       "      <th>dire_ward_sentry_count</th>\n",
       "      <th>dire_first_ward_time</th>\n",
       "      <th>duration</th>\n",
       "      <th>radiant_win</th>\n",
       "      <th>tower_status_radiant</th>\n",
       "      <th>tower_status_dire</th>\n",
       "      <th>barracks_status_radiant</th>\n",
       "      <th>barracks_status_dire</th>\n",
       "    </tr>\n",
       "  </thead>\n",
       "  <tbody>\n",
       "    <tr>\n",
       "      <th>count</th>\n",
       "      <td>9.723000e+04</td>\n",
       "      <td>97230.000000</td>\n",
       "      <td>97230.000000</td>\n",
       "      <td>97230.000000</td>\n",
       "      <td>97230.000000</td>\n",
       "      <td>97230.000000</td>\n",
       "      <td>97230.000000</td>\n",
       "      <td>97230.000000</td>\n",
       "      <td>97230.000000</td>\n",
       "      <td>97230.000000</td>\n",
       "      <td>...</td>\n",
       "      <td>97230.000000</td>\n",
       "      <td>97230.000000</td>\n",
       "      <td>97230.000000</td>\n",
       "      <td>95404.000000</td>\n",
       "      <td>97230.000000</td>\n",
       "      <td>97230.000000</td>\n",
       "      <td>97230.000000</td>\n",
       "      <td>97230.000000</td>\n",
       "      <td>97230.000000</td>\n",
       "      <td>97230.000000</td>\n",
       "    </tr>\n",
       "    <tr>\n",
       "      <th>mean</th>\n",
       "      <td>1.444232e+09</td>\n",
       "      <td>2.630999</td>\n",
       "      <td>51.517104</td>\n",
       "      <td>3.442672</td>\n",
       "      <td>1233.405801</td>\n",
       "      <td>1147.899702</td>\n",
       "      <td>11.231996</td>\n",
       "      <td>0.357009</td>\n",
       "      <td>0.362285</td>\n",
       "      <td>8.271315</td>\n",
       "      <td>...</td>\n",
       "      <td>3.349553</td>\n",
       "      <td>2.448339</td>\n",
       "      <td>0.689119</td>\n",
       "      <td>-6.901922</td>\n",
       "      <td>2332.247886</td>\n",
       "      <td>0.518503</td>\n",
       "      <td>1309.227790</td>\n",
       "      <td>1286.310820</td>\n",
       "      <td>40.599095</td>\n",
       "      <td>41.337036</td>\n",
       "    </tr>\n",
       "    <tr>\n",
       "      <th>std</th>\n",
       "      <td>5.515393e+06</td>\n",
       "      <td>2.835761</td>\n",
       "      <td>32.564211</td>\n",
       "      <td>1.111741</td>\n",
       "      <td>566.588895</td>\n",
       "      <td>464.111662</td>\n",
       "      <td>9.041620</td>\n",
       "      <td>0.663889</td>\n",
       "      <td>0.626704</td>\n",
       "      <td>2.497575</td>\n",
       "      <td>...</td>\n",
       "      <td>1.155609</td>\n",
       "      <td>0.813459</td>\n",
       "      <td>0.710122</td>\n",
       "      <td>40.701397</td>\n",
       "      <td>715.806850</td>\n",
       "      <td>0.499660</td>\n",
       "      <td>853.921365</td>\n",
       "      <td>851.009148</td>\n",
       "      <td>27.871645</td>\n",
       "      <td>27.064873</td>\n",
       "    </tr>\n",
       "    <tr>\n",
       "      <th>min</th>\n",
       "      <td>1.430199e+09</td>\n",
       "      <td>0.000000</td>\n",
       "      <td>1.000000</td>\n",
       "      <td>0.000000</td>\n",
       "      <td>0.000000</td>\n",
       "      <td>0.000000</td>\n",
       "      <td>0.000000</td>\n",
       "      <td>0.000000</td>\n",
       "      <td>0.000000</td>\n",
       "      <td>0.000000</td>\n",
       "      <td>...</td>\n",
       "      <td>0.000000</td>\n",
       "      <td>0.000000</td>\n",
       "      <td>0.000000</td>\n",
       "      <td>-84.000000</td>\n",
       "      <td>900.000000</td>\n",
       "      <td>0.000000</td>\n",
       "      <td>0.000000</td>\n",
       "      <td>0.000000</td>\n",
       "      <td>0.000000</td>\n",
       "      <td>0.000000</td>\n",
       "    </tr>\n",
       "    <tr>\n",
       "      <th>25%</th>\n",
       "      <td>1.440815e+09</td>\n",
       "      <td>1.000000</td>\n",
       "      <td>22.000000</td>\n",
       "      <td>3.000000</td>\n",
       "      <td>767.000000</td>\n",
       "      <td>746.000000</td>\n",
       "      <td>2.000000</td>\n",
       "      <td>0.000000</td>\n",
       "      <td>0.000000</td>\n",
       "      <td>7.000000</td>\n",
       "      <td>...</td>\n",
       "      <td>3.000000</td>\n",
       "      <td>2.000000</td>\n",
       "      <td>0.000000</td>\n",
       "      <td>-31.000000</td>\n",
       "      <td>1818.000000</td>\n",
       "      <td>0.000000</td>\n",
       "      <td>36.000000</td>\n",
       "      <td>256.000000</td>\n",
       "      <td>3.000000</td>\n",
       "      <td>3.000000</td>\n",
       "    </tr>\n",
       "    <tr>\n",
       "      <th>50%</th>\n",
       "      <td>1.446338e+09</td>\n",
       "      <td>1.000000</td>\n",
       "      <td>50.000000</td>\n",
       "      <td>3.000000</td>\n",
       "      <td>1175.000000</td>\n",
       "      <td>1113.000000</td>\n",
       "      <td>11.000000</td>\n",
       "      <td>0.000000</td>\n",
       "      <td>0.000000</td>\n",
       "      <td>8.000000</td>\n",
       "      <td>...</td>\n",
       "      <td>3.000000</td>\n",
       "      <td>2.000000</td>\n",
       "      <td>1.000000</td>\n",
       "      <td>-16.000000</td>\n",
       "      <td>2268.000000</td>\n",
       "      <td>1.000000</td>\n",
       "      <td>1824.000000</td>\n",
       "      <td>1798.000000</td>\n",
       "      <td>63.000000</td>\n",
       "      <td>60.000000</td>\n",
       "    </tr>\n",
       "    <tr>\n",
       "      <th>75%</th>\n",
       "      <td>1.448829e+09</td>\n",
       "      <td>7.000000</td>\n",
       "      <td>75.000000</td>\n",
       "      <td>4.000000</td>\n",
       "      <td>1704.000000</td>\n",
       "      <td>1479.000000</td>\n",
       "      <td>19.000000</td>\n",
       "      <td>1.000000</td>\n",
       "      <td>1.000000</td>\n",
       "      <td>10.000000</td>\n",
       "      <td>...</td>\n",
       "      <td>4.000000</td>\n",
       "      <td>3.000000</td>\n",
       "      <td>1.000000</td>\n",
       "      <td>8.000000</td>\n",
       "      <td>2778.000000</td>\n",
       "      <td>1.000000</td>\n",
       "      <td>1974.000000</td>\n",
       "      <td>1974.000000</td>\n",
       "      <td>63.000000</td>\n",
       "      <td>63.000000</td>\n",
       "    </tr>\n",
       "    <tr>\n",
       "      <th>max</th>\n",
       "      <td>1.450313e+09</td>\n",
       "      <td>7.000000</td>\n",
       "      <td>112.000000</td>\n",
       "      <td>6.000000</td>\n",
       "      <td>3319.000000</td>\n",
       "      <td>4332.000000</td>\n",
       "      <td>47.000000</td>\n",
       "      <td>8.000000</td>\n",
       "      <td>5.000000</td>\n",
       "      <td>34.000000</td>\n",
       "      <td>...</td>\n",
       "      <td>9.000000</td>\n",
       "      <td>9.000000</td>\n",
       "      <td>13.000000</td>\n",
       "      <td>300.000000</td>\n",
       "      <td>8452.000000</td>\n",
       "      <td>1.000000</td>\n",
       "      <td>2047.000000</td>\n",
       "      <td>2047.000000</td>\n",
       "      <td>63.000000</td>\n",
       "      <td>63.000000</td>\n",
       "    </tr>\n",
       "  </tbody>\n",
       "</table>\n",
       "<p>8 rows × 108 columns</p>\n",
       "</div>"
      ],
      "text/plain": [
       "         start_time    lobby_type       r1_hero      r1_level         r1_xp  \\\n",
       "count  9.723000e+04  97230.000000  97230.000000  97230.000000  97230.000000   \n",
       "mean   1.444232e+09      2.630999     51.517104      3.442672   1233.405801   \n",
       "std    5.515393e+06      2.835761     32.564211      1.111741    566.588895   \n",
       "min    1.430199e+09      0.000000      1.000000      0.000000      0.000000   \n",
       "25%    1.440815e+09      1.000000     22.000000      3.000000    767.000000   \n",
       "50%    1.446338e+09      1.000000     50.000000      3.000000   1175.000000   \n",
       "75%    1.448829e+09      7.000000     75.000000      4.000000   1704.000000   \n",
       "max    1.450313e+09      7.000000    112.000000      6.000000   3319.000000   \n",
       "\n",
       "            r1_gold         r1_lh      r1_kills     r1_deaths      r1_items  \\\n",
       "count  97230.000000  97230.000000  97230.000000  97230.000000  97230.000000   \n",
       "mean    1147.899702     11.231996      0.357009      0.362285      8.271315   \n",
       "std      464.111662      9.041620      0.663889      0.626704      2.497575   \n",
       "min        0.000000      0.000000      0.000000      0.000000      0.000000   \n",
       "25%      746.000000      2.000000      0.000000      0.000000      7.000000   \n",
       "50%     1113.000000     11.000000      0.000000      0.000000      8.000000   \n",
       "75%     1479.000000     19.000000      1.000000      1.000000     10.000000   \n",
       "max     4332.000000     47.000000      8.000000      5.000000     34.000000   \n",
       "\n",
       "               ...           dire_boots_count  dire_ward_observer_count  \\\n",
       "count          ...               97230.000000              97230.000000   \n",
       "mean           ...                   3.349553                  2.448339   \n",
       "std            ...                   1.155609                  0.813459   \n",
       "min            ...                   0.000000                  0.000000   \n",
       "25%            ...                   3.000000                  2.000000   \n",
       "50%            ...                   3.000000                  2.000000   \n",
       "75%            ...                   4.000000                  3.000000   \n",
       "max            ...                   9.000000                  9.000000   \n",
       "\n",
       "       dire_ward_sentry_count  dire_first_ward_time      duration  \\\n",
       "count            97230.000000          95404.000000  97230.000000   \n",
       "mean                 0.689119             -6.901922   2332.247886   \n",
       "std                  0.710122             40.701397    715.806850   \n",
       "min                  0.000000            -84.000000    900.000000   \n",
       "25%                  0.000000            -31.000000   1818.000000   \n",
       "50%                  1.000000            -16.000000   2268.000000   \n",
       "75%                  1.000000              8.000000   2778.000000   \n",
       "max                 13.000000            300.000000   8452.000000   \n",
       "\n",
       "        radiant_win  tower_status_radiant  tower_status_dire  \\\n",
       "count  97230.000000          97230.000000       97230.000000   \n",
       "mean       0.518503           1309.227790        1286.310820   \n",
       "std        0.499660            853.921365         851.009148   \n",
       "min        0.000000              0.000000           0.000000   \n",
       "25%        0.000000             36.000000         256.000000   \n",
       "50%        1.000000           1824.000000        1798.000000   \n",
       "75%        1.000000           1974.000000        1974.000000   \n",
       "max        1.000000           2047.000000        2047.000000   \n",
       "\n",
       "       barracks_status_radiant  barracks_status_dire  \n",
       "count             97230.000000          97230.000000  \n",
       "mean                 40.599095             41.337036  \n",
       "std                  27.871645             27.064873  \n",
       "min                   0.000000              0.000000  \n",
       "25%                   3.000000              3.000000  \n",
       "50%                  63.000000             60.000000  \n",
       "75%                  63.000000             63.000000  \n",
       "max                  63.000000             63.000000  \n",
       "\n",
       "[8 rows x 108 columns]"
      ]
     },
     "execution_count": 2,
     "metadata": {},
     "output_type": "execute_result"
    }
   ],
   "source": [
    "import pandas as pd\n",
    "import numpy as np\n",
    "\n",
    "#Предварительный обзор данных\n",
    "df = pd.read_csv('features.csv', index_col='match_id')\n",
    "df.describe()"
   ]
  },
  {
   "cell_type": "markdown",
   "metadata": {},
   "source": [
    "# 1.градиентный бустинг \"в лоб\""
   ]
  },
  {
   "cell_type": "code",
   "execution_count": 2,
   "metadata": {},
   "outputs": [
    {
     "data": {
      "text/plain": [
       "first_blood_time               0.201100\n",
       "first_blood_team               0.201100\n",
       "first_blood_player1            0.201100\n",
       "first_blood_player2            0.452402\n",
       "radiant_bottle_time            0.161380\n",
       "radiant_courier_time           0.007117\n",
       "radiant_flying_courier_time    0.282619\n",
       "radiant_first_ward_time        0.018883\n",
       "dire_bottle_time               0.166029\n",
       "dire_courier_time              0.006953\n",
       "dire_flying_courier_time       0.268415\n",
       "dire_first_ward_time           0.018780\n",
       "Name: count, dtype: float64"
      ]
     },
     "execution_count": 2,
     "metadata": {},
     "output_type": "execute_result"
    }
   ],
   "source": [
    "#Обзор пропусков в данных\n",
    "rows = len(df)\n",
    "counts = df.describe().T['count']\n",
    "counts_na = counts[counts < rows]\n",
    "counts_na.apply(lambda a: (rows - a) / rows)"
   ]
  },
  {
   "cell_type": "markdown",
   "metadata": {},
   "source": [
    "Какие признаки имеют пропуски среди своих значений?  \n",
    "first_blood_time - игровое время первой крови  \n",
    "first_blood_team- команда, совершившая первую кровь (0 — Radiant, 1 — Dire)  \n",
    "first_blood_player1 - игрок, причастный к событию  \n",
    "first_blood_player2 - второй игрок, причастный к событию, возможно, второй игрок не успел сделать это в течении первых 5 минут  \n",
    "radiant_bottle_time: время первого приобретения командой предмета \"bottle\"  \n",
    "radiant_courier_time: время приобретения предмета \"courier\"  \n",
    "radiant_flying_courier_time - время приобретения предмета \"flying_courier\"   \n",
    "radiant_first_ward_time: время установки командой первого \"наблюдателя\", т.е. предмета, который позволяет видеть часть игрового поля\n",
    "dire_bottle_time - время первого приобретения командой предмета \"bottle\"  \n",
    "dire_courier_time - время приобретения предмета \"courier\"  \n",
    "dire_flying_courier_time - время приобретения предмета \"flying_courier\"   \n",
    "radiant_first_ward_time - время установки командой первого \"наблюдателя\", т.е. предмета, который позволяет видеть часть игрового поля\n",
    "  \n",
    "Что могут означать пропуски в этих признаках (ответьте на этот вопрос для двух любых признаков)?  \n",
    "first_blood_time - игровое время первой крови вполне возможно, что люди как-то развивали как-то своих героев,   \n",
    "или еще какие-то манипуляции, чтобы найти протвников. Возможно, обе команды принимали оборонительные сратегии одновременно  \n",
    "radiant_bottle_time - на сколько понял, этот предмет покупается за золото, а его в первые 5 минут можно просто не набрать,  \n",
    "поэтому есть пропуски  "
   ]
  },
  {
   "cell_type": "code",
   "execution_count": 4,
   "metadata": {},
   "outputs": [],
   "source": [
    "# Загружаем данные\n",
    "train = pd.read_csv('features.csv', index_col='match_id')\n",
    "test = pd.read_csv('features_test.csv', index_col='match_id')\n",
    "\n",
    "# Удаляем признаки, связанные с итогами матча\n",
    "train.drop(['duration', \n",
    "         'tower_status_radiant', \n",
    "         'tower_status_dire', \n",
    "         'barracks_status_radiant', \n",
    "         'barracks_status_dire'\n",
    "        ], axis=1, inplace=True)\n",
    "\n",
    "# И разделяем датасет на признаки и целевую переменную\n",
    "X = train\n",
    "y = train['radiant_win'].to_frame()\n",
    "del train['radiant_win']"
   ]
  },
  {
   "cell_type": "code",
   "execution_count": 5,
   "metadata": {},
   "outputs": [],
   "source": [
    "# Заменяем пропуски на 0\n",
    "X = X.fillna(0)"
   ]
  },
  {
   "cell_type": "code",
   "execution_count": 6,
   "metadata": {},
   "outputs": [],
   "source": [
    "import time\n",
    "import datetime\n",
    "import matplotlib.pyplot as plt\n",
    "from sklearn.model_selection import KFold, cross_val_score, train_test_split\n",
    "from sklearn.ensemble import GradientBoostingClassifier\n",
    "from sklearn.metrics import roc_auc_score\n",
    "\n",
    "%matplotlib inline\n",
    "\n",
    "kf = KFold(n_splits=5, shuffle=True, random_state=242)"
   ]
  },
  {
   "cell_type": "code",
   "execution_count": 11,
   "metadata": {},
   "outputs": [
    {
     "name": "stdout",
     "output_type": "stream",
     "text": [
      "time 10\n",
      "Elapsed time: 0:01:15.877836\n",
      "[0.65980651 0.66777557 0.65838509 0.66828862 0.66997503]\n",
      "time 20\n",
      "Elapsed time: 0:02:23.171823\n",
      "[0.6775204  0.68219983 0.68087028 0.6850183  0.68589328]\n",
      "time 30\n",
      "Elapsed time: 0:03:18.073410\n",
      "[0.68551961 0.68821462 0.68837719 0.69322648 0.69344272]\n",
      "time 50\n",
      "Elapsed time: 0:05:28.829010\n",
      "[0.69402499 0.69579686 0.6964178  0.7011311  0.70113322]\n",
      "time 100\n",
      "Elapsed time: 0:10:54.841342\n",
      "[0.70282263 0.70398324 0.70501392 0.7112722  0.71010923]\n",
      "time 150\n",
      "Elapsed time: 0:16:23.964886\n",
      "[0.70678498 0.70900304 0.70885903 0.71553257 0.714812  ]\n",
      "time 200\n",
      "Elapsed time: 0:18:26.563226\n",
      "[0.71010044 0.71232212 0.71217942 0.71903864 0.71847042]\n"
     ]
    }
   ],
   "source": [
    "scores = []\n",
    "nums = [10, 20, 30, 50, 100 ,150, 200]\n",
    "for n in nums:\n",
    "    print ('time', str(n))\n",
    "    model = GradientBoostingClassifier(n_estimators=n, random_state=242)\n",
    "    start_time = datetime.datetime.now()\n",
    "    model_scores = cross_val_score(model, X, y, cv=kf, scoring='roc_auc', n_jobs=-1)\n",
    "    print ('Elapsed time:', datetime.datetime.now() - start_time)\n",
    "    print (model_scores)\n",
    "    scores.append(np.mean(model_scores))"
   ]
  },
  {
   "cell_type": "code",
   "execution_count": 12,
   "metadata": {},
   "outputs": [
    {
     "data": {
      "image/png": "[encoded data removed]",
      "text/plain": [
       "<Figure size 432x288 with 1 Axes>"
      ]
     },
     "metadata": {
      "needs_background": "light"
     },
     "output_type": "display_data"
    }
   ],
   "source": [
    "plt.plot(nums, scores)\n",
    "plt.xlabel('n_estimators')\n",
    "plt.ylabel('score')\n",
    "plt.show()"
   ]
  },
  {
   "cell_type": "markdown",
   "metadata": {},
   "source": [
    "Кросс-валидация для градиентного бустинга с 30 деревьями заняла 0:03:18.\n",
    "Показатель метрики качества AUC-ROC в таком случае равен 0.685.\n",
    "Увеличение количества деревьев также увеличивает показатель метрики AUC-ROC, приближая его к 0.72. \n",
    "Для достижения большего качества имеет смысл использовать более 30 деревьев. \n",
    "Для ускорения обучения можно использовать не всю выборку, а некоторое ее подмножество — например, половину объектов. Также можно уменьшить глубину деревьев (max_depth)."
   ]
  },
  {
   "cell_type": "markdown",
   "metadata": {},
   "source": [
    "# 2. Логистическая регрессия"
   ]
  },
  {
   "cell_type": "code",
   "execution_count": 13,
   "metadata": {},
   "outputs": [],
   "source": [
    "from sklearn.linear_model import LogisticRegression\n",
    "from sklearn.preprocessing import StandardScaler"
   ]
  },
  {
   "cell_type": "code",
   "execution_count": 14,
   "metadata": {},
   "outputs": [
    {
     "name": "stderr",
     "output_type": "stream",
     "text": [
      "C:\\Users\\programmer\\Anaconda3\\lib\\site-packages\\sklearn\\preprocessing\\data.py:625: DataConversionWarning: Data with input dtype int64, float64 were all converted to float64 by StandardScaler.\n",
      "  return self.partial_fit(X, y)\n",
      "C:\\Users\\programmer\\Anaconda3\\lib\\site-packages\\sklearn\\base.py:462: DataConversionWarning: Data with input dtype int64, float64 were all converted to float64 by StandardScaler.\n",
      "  return self.fit(X, **fit_params).transform(X)\n"
     ]
    }
   ],
   "source": [
    "scaler = StandardScaler()\n",
    "X = scaler.fit_transform(X)\n",
    "\n",
    "kf = KFold(n_splits=5, shuffle=True, random_state=242)"
   ]
  },
  {
   "cell_type": "code",
   "execution_count": 20,
   "metadata": {},
   "outputs": [
    {
     "name": "stdout",
     "output_type": "stream",
     "text": [
      "C = 1e-05\n",
      "[0.69102573 0.69706117 0.68960891 0.69937079 0.6991955 ]\n",
      "Elapsed time: 0:00:05.094730\n",
      "C = 0.0001\n",
      "[0.70781185 0.71172534 0.70638792 0.71620581 0.71510638]\n",
      "Elapsed time: 0:00:06.809112\n",
      "C = 0.001\n",
      "[0.713621   0.71459327 0.71239243 0.72184598 0.71988447]\n",
      "Elapsed time: 0:00:12.531884\n",
      "C = 0.01\n",
      "[0.71408367 0.71407412 0.71284101 0.72237377 0.71999192]\n",
      "Elapsed time: 0:00:16.960697\n",
      "C = 0.1\n",
      "[0.71409741 0.71392161 0.71286984 0.72242197 0.71995059]\n",
      "Elapsed time: 0:00:17.741322\n",
      "C = 1.0\n",
      "[0.71409836 0.71390757 0.71287185 0.72242916 0.71994517]\n",
      "Elapsed time: 0:00:19.273689\n",
      "C = 10.0\n",
      "[0.71409807 0.71390644 0.71287206 0.72242974 0.71994469]\n",
      "Elapsed time: 0:00:20.158936\n",
      "C = 100.0\n",
      "[0.71409822 0.71390639 0.71287227 0.72242957 0.71994453]\n",
      "Elapsed time: 0:00:18.133402\n",
      "C = 1000.0\n",
      "[0.71409818 0.71390645 0.71287222 0.72242963 0.71994453]\n",
      "Elapsed time: 0:00:17.926127\n",
      "C = 10000.0\n",
      "[0.71409817 0.71390647 0.71287222 0.72242964 0.71994451]\n",
      "Elapsed time: 0:00:17.679280\n",
      "C = 100000.0\n",
      "[0.71409817 0.71390647 0.71287222 0.72242964 0.7199445 ]\n",
      "Elapsed time: 0:00:18.862632\n"
     ]
    },
    {
     "data": {
      "image/png": "[encoded data removed]",
      "text/plain": [
       "<Figure size 432x288 with 1 Axes>"
      ]
     },
     "metadata": {
      "needs_background": "light"
     },
     "output_type": "display_data"
    }
   ],
   "source": [
    "def start_test():\n",
    "    scores = []\n",
    "    C_pow_range = range(-5, 6)\n",
    "    C_range = [10.0 ** i for i in C_pow_range]\n",
    "    for C in C_range:\n",
    "        start_time = datetime.datetime.now()\n",
    "        print('C =', str(C))\n",
    "        model = LogisticRegression(C=C, random_state=242, n_jobs=-1)\n",
    "        model_scores = cross_val_score(model, X, y, cv=kf, scoring='roc_auc', n_jobs=-1)\n",
    "        print(model_scores)\n",
    "        print('Elapsed time:', datetime.datetime.now() - start_time)      \n",
    "        scores.append(np.mean(model_scores))\n",
    "\n",
    "    plt.plot(C_pow_range, scores)\n",
    "    plt.xlabel('log(C)')\n",
    "    plt.ylabel('score')\n",
    "    plt.show()\n",
    "    \n",
    "    max_score = max(scores)\n",
    "    max_score_index = scores.index(max_score)\n",
    "    return C_range[max_score_index], max_score\n",
    "C_range_max_score_index, max_score = start_test()"
   ]
  },
  {
   "cell_type": "code",
   "execution_count": 21,
   "metadata": {},
   "outputs": [
    {
     "name": "stdout",
     "output_type": "stream",
     "text": [
      "0.01\n",
      "0.7166728970202303\n"
     ]
    }
   ],
   "source": [
    "print(C_range_max_score_index)\n",
    "print(max_score)"
   ]
  },
  {
   "cell_type": "markdown",
   "metadata": {},
   "source": [
    "Наилучшее значение показателя AUC-ROC достигается при C = 0.01 и равно 0.71. \n",
    "Это сравнимо с градиентным бустингом по 200 деревьям, при этом логистическая регрессия работает заметно быстрее."
   ]
  },
  {
   "cell_type": "code",
   "execution_count": 23,
   "metadata": {
    "scrolled": false
   },
   "outputs": [
    {
     "name": "stdout",
     "output_type": "stream",
     "text": [
      "C = 1e-05\n",
      "[0.50891576 0.51186345 0.5105742  0.51884706 0.51697229]\n",
      "Elapsed time: 0:00:03.008441\n",
      "C = 0.0001\n",
      "[0.50891576 0.51186345 0.5105742  0.51884706 0.51697229]\n",
      "Elapsed time: 0:00:03.029007\n",
      "C = 0.001\n",
      "[0.50891576 0.51186345 0.5105742  0.51884706 0.51697229]\n",
      "Elapsed time: 0:00:03.122155\n",
      "C = 0.01\n",
      "[0.50891576 0.51186345 0.5105742  0.51884706 0.51697229]\n",
      "Elapsed time: 0:00:02.979054\n",
      "C = 0.1\n",
      "[0.50891576 0.51186345 0.5105742  0.51884706 0.51697229]\n",
      "Elapsed time: 0:00:02.862253\n",
      "C = 1.0\n",
      "[0.50891576 0.51186345 0.5105742  0.51884706 0.51697229]\n",
      "Elapsed time: 0:00:03.158708\n",
      "C = 10.0\n",
      "[0.50891576 0.51186345 0.5105742  0.51884706 0.51697229]\n",
      "Elapsed time: 0:00:03.032001\n",
      "C = 100.0\n",
      "[0.50891576 0.51186345 0.5105742  0.51884706 0.51697229]\n",
      "Elapsed time: 0:00:02.925866\n",
      "C = 1000.0\n",
      "[0.50891576 0.51186345 0.5105742  0.51884706 0.51697229]\n",
      "Elapsed time: 0:00:02.909650\n",
      "C = 10000.0\n",
      "[0.50891576 0.51186345 0.5105742  0.51884706 0.51697229]\n",
      "Elapsed time: 0:00:02.907819\n",
      "C = 100000.0\n",
      "[0.50891576 0.51186345 0.5105742  0.51884706 0.51697229]\n",
      "Elapsed time: 0:00:03.105604\n"
     ]
    },
    {
     "data": {
      "image/png": "[encoded data removed]",
      "text/plain": [
       "<Figure size 432x288 with 1 Axes>"
      ]
     },
     "metadata": {
      "needs_background": "light"
     },
     "output_type": "display_data"
    }
   ],
   "source": [
    "# удаляем категориальные признаки\n",
    "# Загружаем данные\n",
    "train = pd.read_csv('features.csv', index_col='match_id')\n",
    "test = pd.read_csv('features_test.csv', index_col='match_id')\n",
    "\n",
    "# Удаляем признаки, связанные с итогами матча\n",
    "train.drop(['duration', \n",
    "         'tower_status_radiant', \n",
    "         'tower_status_dire', \n",
    "         'barracks_status_radiant', \n",
    "         'barracks_status_dire'\n",
    "        ], axis=1, inplace=True)\n",
    "\n",
    "# И разделяем датасет на признаки и целевую переменную\n",
    "X = train\n",
    "y = train['radiant_win'].to_frame()\n",
    "del train['radiant_win']\n",
    "# удаляем категориальные признаки\n",
    "X = X.fillna(0)\n",
    "del X['lobby_type']\n",
    "for n in range(1, 6):\n",
    "    del X['r{}_hero'.format(n)]\n",
    "    del X['d{}_hero'.format(n)]\n",
    "\n",
    "C_range_max_score_index, max_score = start_test()"
   ]
  },
  {
   "cell_type": "markdown",
   "metadata": {},
   "source": [
    "Удаление категориальных признаков повлияло на качество предсказания. \n",
    "От качеств героя зависит его возможность победить"
   ]
  },
  {
   "cell_type": "code",
   "execution_count": 24,
   "metadata": {},
   "outputs": [
    {
     "name": "stdout",
     "output_type": "stream",
     "text": [
      "1e-05\n",
      "0.513434553246413\n"
     ]
    }
   ],
   "source": [
    "print(C_range_max_score_index)\n",
    "print(max_score)"
   ]
  },
  {
   "cell_type": "code",
   "execution_count": 30,
   "metadata": {},
   "outputs": [
    {
     "name": "stdout",
     "output_type": "stream",
     "text": [
      "Всего героев в игре: 112\n"
     ]
    },
    {
     "name": "stderr",
     "output_type": "stream",
     "text": [
      "C:\\Users\\programmer\\Anaconda3\\lib\\site-packages\\sklearn\\preprocessing\\data.py:625: DataConversionWarning: Data with input dtype int64, float64 were all converted to float64 by StandardScaler.\n",
      "  return self.partial_fit(X, y)\n",
      "C:\\Users\\programmer\\Anaconda3\\lib\\site-packages\\sklearn\\base.py:462: DataConversionWarning: Data with input dtype int64, float64 were all converted to float64 by StandardScaler.\n",
      "  return self.fit(X, **fit_params).transform(X)\n"
     ]
    },
    {
     "name": "stdout",
     "output_type": "stream",
     "text": [
      "C = 1e-05\n",
      "[0.69494009 0.70096007 0.69355759 0.70353665 0.70346657]\n",
      "Elapsed time: 0:00:50.115342\n",
      "C = 0.0001\n",
      "[0.72156686 0.72459563 0.71977958 0.73021855 0.7296553 ]\n",
      "Elapsed time: 0:00:08.837623\n",
      "C = 0.001\n",
      "[0.74358067 0.74266078 0.74252753 0.75202967 0.75146139]\n",
      "Elapsed time: 0:00:15.145977\n",
      "C = 0.01\n",
      "[0.74894095 0.74714361 0.74945921 0.75754937 0.75622866]\n",
      "Elapsed time: 0:00:22.521432\n",
      "C = 0.1\n",
      "[0.74917036 0.7471827  0.75018633 0.75758375 0.75611009]\n",
      "Elapsed time: 0:00:29.636967\n",
      "C = 1.0\n",
      "[0.74916966 0.74714099 0.75024988 0.75753713 0.75604957]\n",
      "Elapsed time: 0:00:32.327676\n",
      "C = 10.0\n",
      "[0.74916835 0.74713638 0.75025491 0.75753189 0.75604299]\n",
      "Elapsed time: 0:00:32.320949\n",
      "C = 100.0\n",
      "[0.74916849 0.74713624 0.75025512 0.75753189 0.75604151]\n",
      "Elapsed time: 0:00:32.174764\n",
      "C = 1000.0\n",
      "[0.7491677  0.74713631 0.7502553  0.75753177 0.75604123]\n",
      "Elapsed time: 0:00:32.353809\n",
      "C = 10000.0\n",
      "[0.74916768 0.74713647 0.75025541 0.75753192 0.75604141]\n",
      "Elapsed time: 0:00:34.301442\n",
      "C = 100000.0\n",
      "[0.74916766 0.74713625 0.75025534 0.75753088 0.75604155]\n",
      "Elapsed time: 0:00:33.676444\n"
     ]
    },
    {
     "data": {
      "image/png": "[encoded data removed]",
      "text/plain": [
       "<Figure size 432x288 with 1 Axes>"
      ]
     },
     "metadata": {
      "needs_background": "light"
     },
     "output_type": "display_data"
    }
   ],
   "source": [
    "# удаляем категориальные признаки\n",
    "# Загружаем данные\n",
    "train = pd.read_csv('features.csv', index_col='match_id')\n",
    "test = pd.read_csv('features_test.csv', index_col='match_id')\n",
    "\n",
    "# Удаляем признаки, связанные с итогами матча\n",
    "train.drop(['duration', \n",
    "         'tower_status_radiant', \n",
    "         'tower_status_dire', \n",
    "         'barracks_status_radiant', \n",
    "         'barracks_status_dire'\n",
    "        ], axis=1, inplace=True)\n",
    "\n",
    "# И разделяем датасет на признаки и целевую переменную\n",
    "X = train\n",
    "y = train['radiant_win'].to_frame()\n",
    "del train['radiant_win']\n",
    "# удаляем категориальные признаки\n",
    "X = X.fillna(0)\n",
    "\n",
    "heroes = pd.read_csv('heroes.csv')\n",
    "print('Всего героев в игре:', len(heroes))\n",
    "X_pick = np.zeros((X.shape[0], len(heroes)))\n",
    "for i, match_id in enumerate(X.index):\n",
    "    for p in range(5):\n",
    "        X_pick[i, X.loc[match_id, 'r%d_hero' % (p+1)]-1] = 1\n",
    "        X_pick[i, X.loc[match_id, 'd%d_hero' % (p+1)]-1] = -1\n",
    "\n",
    "X_hero=pd.DataFrame(X_pick, index=X.index)\n",
    "\n",
    "\n",
    "del X['lobby_type']\n",
    "for n in range(1, 6):\n",
    "    del X['r{}_hero'.format(n)]\n",
    "    del X['d{}_hero'.format(n)]\n",
    "\n",
    "scaler = StandardScaler()\n",
    "X = pd.DataFrame(scaler.fit_transform(X), index = X.index)\n",
    "\n",
    "X_hero=pd.DataFrame(X_pick, index=X.index)\n",
    "X = pd.concat([X, X_hero], axis=1)\n",
    "\n",
    "C_range_max_score_index, max_score = start_test()"
   ]
  },
  {
   "cell_type": "markdown",
   "metadata": {},
   "source": [
    "После добавления \"мешка слов\" по героям качество заметно улучшилось. \n",
    "Наилучшее значение показателя AUC-ROC достигается при C = 0.1 и равно 0.75. \n",
    "Это объясняется тем, что вместо отсутствия данных о героях или случайного шума из \n",
    "id мы имеем осмысленную разреженную матрицу для построения предсказания."
   ]
  },
  {
   "cell_type": "code",
   "execution_count": null,
   "metadata": {},
   "outputs": [],
   "source": []
  }
 ],
 "metadata": {
  "kernelspec": {
   "display_name": "Python 3",
   "language": "python",
   "name": "python3"
  },
  "language_info": {
   "codemirror_mode": {
    "name": "ipython",
    "version": 3
   },
   "file_extension": ".py",
   "mimetype": "text/x-python",
   "name": "python",
   "nbconvert_exporter": "python",
   "pygments_lexer": "ipython3",
   "version": "3.7.1"
  }
 },
 "nbformat": 4,
 "nbformat_minor": 2
}
